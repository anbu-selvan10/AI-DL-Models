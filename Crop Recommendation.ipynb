{
 "cells": [
  {
   "cell_type": "markdown",
   "id": "a30f7428-766d-413a-be71-6ef94bf2af60",
   "metadata": {},
   "source": [
    "## Import the Libraries"
   ]
  },
  {
   "cell_type": "code",
   "execution_count": null,
   "id": "02f91bea-9670-4961-9a9a-d4a5ccb5fdbc",
   "metadata": {},
   "outputs": [],
   "source": [
    "import pandas as pd\n",
    "from tensorflow.keras.models import Sequential\n",
    "from tensorflow.keras.layers import Dense\n",
    "from tensorflow.keras.utils import to_categorical\n",
    "from sklearn.model_selection import cross_val_score, KFold\n",
    "from sklearn.preprocessing import LabelEncoder\n",
    "from scikeras.wrappers import KerasClassifier\n",
    "from sklearn.model_selection import train_test_split\n",
    "import numpy as np"
   ]
  },
  {
   "cell_type": "markdown",
   "id": "290dd1ce-0bd8-4c80-9e21-fb7bf9c76af9",
   "metadata": {},
   "source": [
    "## Load the dataset"
   ]
  },
  {
   "cell_type": "code",
   "execution_count": null,
   "id": "a3ec20fc-1fcc-42a9-8e3d-6b7b7b3b7215",
   "metadata": {},
   "outputs": [],
   "source": [
    "df = pd.read_csv(\"F:\\Datasets\\Crop_recommendation.csv\", index_col=False)\n",
    "df.drop(\"rainfall\", axis=1, inplace=True)"
   ]
  },
  {
   "cell_type": "markdown",
   "id": "634220a3-1bc3-4e3a-bc7f-bba63c74ea74",
   "metadata": {},
   "source": [
    "## Encoding the Labels"
   ]
  },
  {
   "cell_type": "code",
   "execution_count": null,
   "id": "b951f985-f6e7-4d76-aa8b-16bf3732312d",
   "metadata": {},
   "outputs": [],
   "source": [
    "dataset = df.values\n",
    "X = dataset[:, 0:6].astype(float)\n",
    "Y = dataset[:, 6] "
   ]
  },
  {
   "cell_type": "code",
   "execution_count": null,
   "id": "c7ad7a95-c822-4a4e-9145-79d7e05e15ab",
   "metadata": {},
   "outputs": [],
   "source": [
    "encoder = LabelEncoder()\n",
    "encoder.fit(Y)\n",
    "encoded_Y = encoder.transform(Y)\n",
    "dummy_y = to_categorical(encoded_Y)"
   ]
  },
  {
   "cell_type": "markdown",
   "id": "0af9c71a-fca2-4eb5-bb56-6960d6c087a8",
   "metadata": {},
   "source": [
    "## Neural Network with Softmax Activation"
   ]
  },
  {
   "cell_type": "code",
   "execution_count": null,
   "id": "c74489f6-23a2-4095-ab3c-6b27009b322d",
   "metadata": {},
   "outputs": [],
   "source": [
    "def classification_model():\n",
    "\tmodel = Sequential()\n",
    "\tmodel.add(Dense(44, input_dim=6, activation='relu'))\n",
    "\tmodel.add(Dense(22, activation='softmax'))\n",
    "\tmodel.compile(loss='categorical_crossentropy', optimizer='adam', metrics=['accuracy'])\n",
    "\treturn model"
   ]
  },
  {
   "cell_type": "markdown",
   "id": "7a24fab4-7f1b-4a8b-8e28-227e55b8dcd4",
   "metadata": {},
   "source": [
    "## Evaluate the model"
   ]
  },
  {
   "cell_type": "code",
   "execution_count": null,
   "id": "4c08ec1f-b1c9-471b-b03a-4bfe8ef0f8c1",
   "metadata": {},
   "outputs": [],
   "source": [
    "estimator = KerasClassifier(build_fn=classification_model, epochs=200, batch_size=5, verbose=0)\n",
    "kfold = KFold(n_splits=10, shuffle=True)\n",
    "results = cross_val_score(estimator, X, dummy_y, cv=kfold)\n",
    "print(\"Results accuracy: %.2f%% (%.2f%%)\" % (results.mean()*100, results.std()*100))"
   ]
  },
  {
   "cell_type": "markdown",
   "id": "b551deeb-12bc-4ea4-bad4-2b551c3895b5",
   "metadata": {},
   "source": [
    "## Training the model"
   ]
  },
  {
   "cell_type": "code",
   "execution_count": null,
   "id": "0068774c-8213-4e50-a621-cb2024734944",
   "metadata": {},
   "outputs": [],
   "source": [
    "X_train, X_test, y_train, y_test = train_test_split(X, dummy_y, test_size=0.2, random_state=42)\n",
    "\n",
    "model = classification_model()\n",
    "model.fit(X_train, y_train, epochs=400, batch_size=5, verbose=0)\n",
    "loss, accuracy = model.evaluate(X_test, y_test)\n",
    "print(\"Accuracy:\", accuracy)\n",
    "print(\"Loss: \", loss)"
   ]
  },
  {
   "cell_type": "markdown",
   "id": "8fed722e-6214-4926-b217-5e1b7492a994",
   "metadata": {},
   "source": [
    "## Predicting"
   ]
  },
  {
   "cell_type": "code",
   "execution_count": null,
   "id": "5eb0d47d-0be9-4596-9260-982f6bc13ac7",
   "metadata": {},
   "outputs": [],
   "source": [
    "example = np.array([[90, 42, 43, 20.879744, 82.002744, 6.502985]])\n",
    "predictions = model.predict(example)\n",
    "class_labels = ['rice', 'maize', 'chickpea', 'kidneybeans', 'pigeonpeas', 'mothbeans', 'mungbean', 'blackgram', 'lentil', 'pomegranate', 'banana', 'mango', 'grapes', 'watermelon', 'muskmelon', 'apple',\n",
    "'orange', 'papaya', 'coconut', 'cotton', 'jute', 'coffee']\n",
    "\n",
    "encoder.fit(class_labels)\n",
    "predicted_labels_encoded = np.argmax(predictions, axis=1)\n",
    "predicted_labels = encoder.inverse_transform(predicted_labels_encoded)\n",
    "\n",
    "print(\"Predicted label:\", predicted_labels)"
   ]
  }
 ],
 "metadata": {
  "kernelspec": {
   "display_name": "mlkernel",
   "language": "python",
   "name": "mlkernel"
  },
  "language_info": {
   "codemirror_mode": {
    "name": "ipython",
    "version": 3
   },
   "file_extension": ".py",
   "mimetype": "text/x-python",
   "name": "python",
   "nbconvert_exporter": "python",
   "pygments_lexer": "ipython3",
   "version": "3.11.0"
  }
 },
 "nbformat": 4,
 "nbformat_minor": 5
}
