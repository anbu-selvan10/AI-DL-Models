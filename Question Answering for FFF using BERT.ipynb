{
 "cells": [
  {
   "cell_type": "markdown",
   "id": "a4ee380e-1b26-45fc-b4f3-95469270d640",
   "metadata": {},
   "source": [
    "## Import libraries"
   ]
  },
  {
   "cell_type": "code",
   "execution_count": null,
   "id": "fa0cd11b-f3f4-4268-87d1-7b4158b048c0",
   "metadata": {},
   "outputs": [],
   "source": [
    "from datasets import load_dataset\n",
    "from transformers import AutoTokenizer, AutoModelForQuestionAnswering, Trainer, TrainingArguments\n",
    "from sklearn.metrics import f1_score"
   ]
  },
  {
   "cell_type": "markdown",
   "id": "74e165a7-4399-4fae-a6bf-e19d1a36e956",
   "metadata": {},
   "source": [
    "## Load Dataset"
   ]
  },
  {
   "cell_type": "code",
   "execution_count": null,
   "id": "0cd71204-ca77-4a77-97aa-ae9bc9371985",
   "metadata": {},
   "outputs": [],
   "source": [
    "dataset = load_dataset(\"khalidalt/tydiqa-goldp\", \"english\")"
   ]
  },
  {
   "cell_type": "code",
   "execution_count": null,
   "id": "f545a047-f595-433f-b042-ee2f76738d59",
   "metadata": {},
   "outputs": [],
   "source": [
    "idx = 0\n",
    "\n",
    "start_index = dataset['train'][idx]['answers']['start_byte'][0]\n",
    "end_index = dataset['train'][idx]['answers']['limit_byte'][0]\n",
    "\n",
    "print(f\"Question: {dataset['train'][idx]['question_text']}\")\n",
    "print(f\"\\nContext (truncated): {dataset['train'][idx]['passage_text'][0:512]} ...\")\n",
    "print(f\"\\nAnswer: {dataset['train'][idx]['passage_text'][start_index:end_index]}\")"
   ]
  },
  {
   "cell_type": "markdown",
   "id": "acd4ae8f-b8ce-494b-ae42-255f893ed1e6",
   "metadata": {},
   "source": [
    "## Preprocessing (Tokenize)"
   ]
  },
  {
   "cell_type": "code",
   "execution_count": null,
   "id": "d29ea6f9-29f9-4699-a7d9-59328e8647b1",
   "metadata": {},
   "outputs": [],
   "source": [
    "tokenizer = AutoTokenizer.from_pretrained(\"distilbert-base-cased-distilled-squad\")\n",
    "tokenizer.model_max_length = 512"
   ]
  },
  {
   "cell_type": "code",
   "execution_count": null,
   "id": "bd1aec6d-dd08-487f-9b03-dd147008b821",
   "metadata": {},
   "outputs": [],
   "source": [
    "flattened_train_data = dataset['train'].flatten()\n",
    "flattened_test_data =  dataset['validation'].flatten()"
   ]
  },
  {
   "cell_type": "code",
   "execution_count": null,
   "id": "61bd48a7-a720-4e50-90aa-7c8604268b85",
   "metadata": {},
   "outputs": [],
   "source": [
    "def process_samples(sample):\n",
    "    tokenized_data = tokenizer(sample['passage_text'], sample['question_text'], truncation=\"only_first\", padding=\"max_length\")\n",
    "\n",
    "    input_ids = tokenized_data[\"input_ids\"]\n",
    "\n",
    "    cls_index = input_ids.index(tokenizer.cls_token_id)\n",
    "\n",
    "    if sample[\"answers.start_byte\"][0] == -1:\n",
    "        start_position = cls_index\n",
    "        end_position = cls_index\n",
    "    else:\n",
    "        gold_text = sample[\"passage_text\"][sample[\"answers.start_byte\"][0]:sample[\"answers.limit_byte\"][0]]\n",
    "        start_char = sample[\"answers.start_byte\"][0]\n",
    "        end_char = sample[\"answers.limit_byte\"][0]\n",
    "\n",
    "        if sample['passage_text'][start_char-1:end_char-1] == gold_text:\n",
    "            start_char = start_char - 1\n",
    "            end_char = end_char - 1  \n",
    "        elif sample['passage_text'][start_char-2:end_char-2] == gold_text:\n",
    "            start_char = start_char - 2\n",
    "            end_char = end_char - 2\n",
    "\n",
    "        start_token = tokenized_data.char_to_token(start_char)\n",
    "        end_token = tokenized_data.char_to_token(end_char - 1)\n",
    "\n",
    "        if start_token is None:\n",
    "            start_token = tokenizer.model_max_length\n",
    "        if end_token is None:\n",
    "            end_token = tokenizer.model_max_length\n",
    "\n",
    "        start_position = start_token\n",
    "        end_position = end_token\n",
    "\n",
    "    return {'input_ids': tokenized_data['input_ids'],\n",
    "          'attention_mask': tokenized_data['attention_mask'],\n",
    "          'start_positions': start_position,\n",
    "          'end_positions': end_position}\n"
   ]
  },
  {
   "cell_type": "code",
   "execution_count": null,
   "id": "16704c1e-fce2-4fb5-9e3b-0f9f766c499b",
   "metadata": {},
   "outputs": [],
   "source": [
    "processed_train_data = flattened_train_data.map(process_samples)\n",
    "processed_test_data = flattened_test_data.map(process_samples)"
   ]
  },
  {
   "cell_type": "markdown",
   "id": "21373626-e712-482c-8c87-9246224a2b11",
   "metadata": {},
   "source": [
    "## Model"
   ]
  },
  {
   "cell_type": "code",
   "execution_count": null,
   "id": "0fd1d45a-5adb-4a0b-9ed9-37bef05ec36b",
   "metadata": {},
   "outputs": [],
   "source": [
    "model = AutoModelForQuestionAnswering.from_pretrained(\"distilbert-base-cased-distilled-squad\")"
   ]
  },
  {
   "cell_type": "code",
   "execution_count": null,
   "id": "6c36b5df-b5c3-4135-a0b7-481bdd8f5083",
   "metadata": {},
   "outputs": [],
   "source": [
    "columns_to_return = ['input_ids','attention_mask', 'start_positions', 'end_positions']\n",
    "\n",
    "processed_train_data.set_format(type='pt', columns=columns_to_return)\n",
    "processed_test_data.set_format(type='pt', columns=columns_to_return)"
   ]
  },
  {
   "cell_type": "markdown",
   "id": "048de536-a3bc-44ed-a8e7-d48709069aea",
   "metadata": {},
   "source": [
    "## Compute Metrics"
   ]
  },
  {
   "cell_type": "code",
   "execution_count": null,
   "id": "6769fde1-0355-43eb-9884-5b986ba77152",
   "metadata": {},
   "outputs": [],
   "source": [
    "def compute_f1_metrics(pred):\n",
    "    start_labels = pred.label_ids[0]\n",
    "    start_preds = pred.predictions[0].argmax(-1)\n",
    "    end_labels = pred.label_ids[1]\n",
    "    end_preds = pred.predictions[1].argmax(-1)\n",
    "\n",
    "    f1_start = f1_score(start_labels, start_preds, average='macro')\n",
    "    f1_end = f1_score(end_labels, end_preds, average='macro')\n",
    "\n",
    "    return {\n",
    "        'f1_start': f1_start,\n",
    "        'f1_end': f1_end,\n",
    "    }"
   ]
  },
  {
   "cell_type": "code",
   "execution_count": null,
   "id": "a0a68cf7-a350-4a87-8a6e-56b5dfd16d69",
   "metadata": {},
   "outputs": [],
   "source": [
    "training_args = TrainingArguments(\n",
    "    output_dir='model_results',     \n",
    "    overwrite_output_dir=True,\n",
    "    num_train_epochs=3,              \n",
    "    per_device_train_batch_size=8,   \n",
    "    per_device_eval_batch_size=8,    \n",
    "    warmup_steps=20,                 \n",
    "    weight_decay=0.01,               \n",
    "    logging_steps=50\n",
    ")\n",
    "\n",
    "trainer = Trainer(\n",
    "    model=model,                        \n",
    "    args=training_args,                 \n",
    "    train_dataset=processed_train_data, \n",
    "    eval_dataset=processed_test_data, \n",
    "    compute_metrics=compute_f1_metrics\n",
    ")\n",
    "\n",
    "trainer.train()"
   ]
  },
  {
   "cell_type": "code",
   "execution_count": null,
   "id": "c636cf25-b68a-49ed-9757-f89fc483261c",
   "metadata": {},
   "outputs": [],
   "source": [
    "trainer.evaluate(processed_test_data)"
   ]
  },
  {
   "cell_type": "markdown",
   "id": "fc3dcd5f-7668-44eb-b8d8-951ac264fcb0",
   "metadata": {},
   "source": [
    "## Predict Answer"
   ]
  },
  {
   "cell_type": "code",
   "execution_count": null,
   "id": "608adaee-a661-4e85-b087-fefe06fa9576",
   "metadata": {},
   "outputs": [],
   "source": [
    "text = r\"\"\"\n",
    "Stocks (also capital stock, or sometimes interchangeably, shares) consist of all the shares[a] by which ownership of a corporation or company is divided.[1] A single share of the stock means fractional ownership of the corporation in proportion to the total number of shares. This typically entitles the shareholder (stockholder) to that fraction of the company's earnings, proceeds from liquidation of assets (after discharge of all senior claims such as secured and unsecured debt),[3] or voting power, often dividing these up in proportion to the amount of money each stockholder has invested. Not all stock is necessarily equal, as certain classes of stock may be issued, for example, without voting rights, with enhanced voting rights, or with a certain priority to receive profits or liquidation proceeds before or after other classes of shareholders.\n",
    "\n",
    "Stock can be bought and sold privately or on stock exchanges. Such transactions are closely overseen by governments and regulatory bodies to prevent fraud, protect investors, and benefit the larger economy. The stocks are deposited with the depositories in the electronic format also known as Demat account. As new shares are issued by a company, the ownership and rights of existing shareholders are diluted in return for cash to sustain or grow the business. Companies can also buy back stock, which often lets investors recoup the initial investment plus capital gains from subsequent rises in stock price. Stock options issued by many companies as part of employee compensation do not represent ownership, but represent the right to buy ownership at a future time at a specified price. This would represent a windfall to the employees if the option were exercised when the market price is higher than the promised price, since if they immediately sold the stock they would keep the difference (minus taxes).\n",
    "\n",
    "Stock bought and sold in private markets fall within the private equity realm of finance.\n",
    "\"\"\"\n",
    "\n",
    "questions = [\"What does a single share of stock represent in terms of ownership?\",\n",
    "             \"How are transactions of stocks overseen, and what is the purpose of government and regulatory oversight?\",\n",
    "             \"What is the significance of companies buying back stock, and how does it impact investors?\",\n",
    "             \"In what way do stock options issued as part of employee compensation differ from actual ownership, and what potential windfall do employees get if the options are exercised?\"]"
   ]
  },
  {
   "cell_type": "code",
   "execution_count": null,
   "id": "75a3e149-1afd-4fe5-ac25-c3b25065e0e9",
   "metadata": {},
   "outputs": [],
   "source": [
    "def answer_by_model(questions):\n",
    "    for question in questions:\n",
    "        inputs = tokenizer.encode_plus(question, text, return_tensors=\"pt\")\n",
    "    \n",
    "        input_ids = inputs[\"input_ids\"].tolist()[0]\n",
    "        inputs.to(\"cuda\")\n",
    "    \n",
    "        text_tokens = tokenizer.convert_ids_to_tokens(input_ids)\n",
    "        answer_model = model(**inputs)\n",
    "        \n",
    "        start_logits = answer_model['start_logits'].cpu().detach().numpy()\n",
    "        answer_start = np.argmax(start_logits)  \n",
    "        \n",
    "        end_logits = answer_model['end_logits'].cpu().detach().numpy()\n",
    "        answer_end = np.argmax(end_logits) + 1\n",
    "    \n",
    "        answer = tokenizer.convert_tokens_to_string(tokenizer.convert_ids_to_tokens(input_ids[answer_start:answer_end]))\n",
    "    \n",
    "        print(f\"Question: {question}\")\n",
    "        print(f\"Answer: {answer}\\n\")"
   ]
  },
  {
   "cell_type": "code",
   "execution_count": null,
   "id": "44b7663d-88ed-4dfd-b666-bc8b9a488a92",
   "metadata": {},
   "outputs": [],
   "source": [
    "answer_by_model(questions)"
   ]
  }
 ],
 "metadata": {
  "kernelspec": {
   "display_name": "mlkernel",
   "language": "python",
   "name": "mlkernel"
  },
  "language_info": {
   "codemirror_mode": {
    "name": "ipython",
    "version": 3
   },
   "file_extension": ".py",
   "mimetype": "text/x-python",
   "name": "python",
   "nbconvert_exporter": "python",
   "pygments_lexer": "ipython3",
   "version": "3.11.0"
  }
 },
 "nbformat": 4,
 "nbformat_minor": 5
}
